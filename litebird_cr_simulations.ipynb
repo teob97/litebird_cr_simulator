{
  "nbformat": 4,
  "nbformat_minor": 0,
  "metadata": {
    "accelerator": "GPU",
    "colab": {
      "name": "litebird_cr_simulations.ipynb",
      "provenance": [],
      "collapsed_sections": [],
      "mount_file_id": "1Lrjar_3YGYBkSjFFsaYV6RaihxXD1psr",
      "authorship_tag": "ABX9TyPGuqEe7Dl047qyce1z8pdb"
    },
    "kernelspec": {
      "display_name": "Python 3",
      "name": "python3"
    }
  },
  "cells": [
    {
      "cell_type": "code",
      "metadata": {
        "id": "ikBlSFb7l6km"
      },
      "source": [
        "import numpy as np\n",
        "import tensorflow as tf\n",
        "import numpy as np\n",
        "import matplotlib.pyplot as plt\n",
        "\n",
        "from tensorflow import keras\n",
        "from tensorflow.keras import layers\n",
        "from tensorflow.keras.models import Sequential"
      ],
      "execution_count": null,
      "outputs": []
    },
    {
      "cell_type": "markdown",
      "metadata": {
        "id": "oLyjya29Paff"
      },
      "source": [
        "Functions to normalize the data in the range [0,1]"
      ]
    },
    {
      "cell_type": "code",
      "metadata": {
        "id": "AIgsNAULl_g9"
      },
      "source": [
        "min_vector = []\n",
        "max_vector = []\n",
        "median_vector = []\n",
        "def normalize(dataset):\n",
        "    for i in range(dataset.shape[0]):\n",
        "        for k in range(dataset.shape[1]):\n",
        "\n",
        "            max_ = np.max(dataset[i,k,:])\n",
        "            max_vector.append(max_)\n",
        "          \n",
        "            min_ = np.min(dataset[i,k,:])\n",
        "            min_vector.append(min_)\n",
        "          \n",
        "            median = np.median(dataset[i,k,:])\n",
        "            median_vector.append(median)\n",
        "            dataset[i,k,:] = 2*((dataset[i,k,:] - min_)/(max_-min_))-1\n",
        "\n",
        "def denormalize(M_vec, m_vec, dataset):\n",
        "  M = sum(M_vec)/len(M_vec)\n",
        "  m = sum(m_vec)/len(m_vec)\n",
        "  \n",
        "  for i in range(dataset.shape[0]):\n",
        "    for k in range(dataset.shape[1]):\n",
        "      dataset[i,k,:] = m + (M-m)*(dataset[i,k,:]+1)/2"
      ],
      "execution_count": null,
      "outputs": []
    },
    {
      "cell_type": "markdown",
      "metadata": {
        "id": "UoF9SSKmPhTJ"
      },
      "source": [
        "Data loading"
      ]
    },
    {
      "cell_type": "code",
      "metadata": {
        "id": "kd60K4A_nsva"
      },
      "source": [
        "#Preparing the data (loading and normalization)\n",
        "data = np.load('TOD.npy')\n",
        "test = np.load('TOD_test.npy')\n",
        "\n",
        "dataset = data[:,1,:,:].copy()\n",
        "test = test[:,1,:,:]\n",
        "\n",
        "normalize(dataset)\n",
        "dataset.shape"
      ],
      "execution_count": null,
      "outputs": []
    },
    {
      "cell_type": "code",
      "metadata": {
        "id": "woS3_qrbnvH_"
      },
      "source": [
        "#-----------------#\n",
        "# HIPERPARAMETERS #\n",
        "#-----------------#\n",
        "\n",
        "data_shape = dataset.shape[1:]\n",
        "noise_dim = 500\n",
        "epochs = 100\n",
        "BATCH_SIZE = 64"
      ],
      "execution_count": null,
      "outputs": []
    },
    {
      "cell_type": "markdown",
      "metadata": {
        "id": "U-MW1RxCPlur"
      },
      "source": [
        "***DISCRIMINATOR***"
      ]
    },
    {
      "cell_type": "code",
      "metadata": {
        "id": "z1lOEu8eoEgV"
      },
      "source": [
        "def get_discriminator_model():\n",
        "    \n",
        "    model = Sequential()\n",
        "\n",
        "    model.add(layers.Input(shape = data_shape))\n",
        "    \n",
        "    model.add(layers.Conv1D(16, 12, strides = 1, data_format='channels_first',activation = 'swish'))\n",
        "    model.add(layers.LayerNormalization())\n",
        "\n",
        "    model.add(layers.Conv1D(32, 12, strides = 2, data_format='channels_first',activation = 'swish'))\n",
        "    model.add(layers.LayerNormalization())\n",
        "\n",
        "    model.add(layers.Conv1D(64, 12, strides = 3, data_format='channels_first',activation = 'swish'))\n",
        "    model.add(layers.LayerNormalization())\n",
        "\n",
        "    model.add(layers.Flatten())  \n",
        "    model.add(layers.Dropout(0.5))  \n",
        "    model.add(layers.Dense(1))\n",
        "\n",
        "    return model\n",
        "\n",
        "d_model = get_discriminator_model()\n",
        "d_model.summary()"
      ],
      "execution_count": null,
      "outputs": []
    },
    {
      "cell_type": "markdown",
      "metadata": {
        "id": "xTKg5Zw0PrZq"
      },
      "source": [
        "***GENERATOR***"
      ]
    },
    {
      "cell_type": "code",
      "metadata": {
        "id": "XF_ArWB5oHW9"
      },
      "source": [
        "def get_generator_model():\n",
        "    \n",
        "    model = Sequential()\n",
        "    \n",
        "    model.add(layers.Input(shape = noise_dim))\n",
        "    model.add(layers.Reshape((1, noise_dim)))\n",
        "    \n",
        "    model.add(layers.Conv1DTranspose(4 , 12, strides = 1, padding = 'same', data_format='channels_first', activation = 'swish'))\n",
        "    model.add(layers.BatchNormalization())\n",
        "    \n",
        "    model.add(layers.Conv1DTranspose(8 , 12, strides = 2, padding = 'same', data_format='channels_first', activation = 'swish'))\n",
        "    model.add(layers.BatchNormalization())\n",
        "    \n",
        "    model.add(layers.Conv1DTranspose(12, 12, strides = 2, padding = 'same', data_format='channels_first', activation = 'swish'))\n",
        "  \n",
        "    model.add(layers.Dense(data_shape[1], activation='tanh'))\n",
        "\n",
        "    return model\n",
        "\n",
        "g_model = get_generator_model()\n",
        "g_model.summary()"
      ],
      "execution_count": null,
      "outputs": []
    },
    {
      "cell_type": "markdown",
      "metadata": {
        "id": "IHccGXxKOtoN"
      },
      "source": [
        "Creation of the Wasserstein GAN with gradient penalty class"
      ]
    },
    {
      "cell_type": "code",
      "metadata": {
        "id": "gHWhyaxMoLA6"
      },
      "source": [
        "class WGAN(keras.Model):\n",
        "    def __init__(\n",
        "        self,\n",
        "        discriminator,\n",
        "        generator,\n",
        "        latent_dim,\n",
        "        discriminator_extra_steps=3,\n",
        "        gp_weight=10.0,\n",
        "    ):\n",
        "        super(WGAN, self).__init__()\n",
        "        self.discriminator = discriminator\n",
        "        self.generator = generator\n",
        "        self.latent_dim = latent_dim\n",
        "        self.d_steps = discriminator_extra_steps\n",
        "        self.gp_weight = gp_weight\n",
        "\n",
        "    def compile(self, d_optimizer, g_optimizer, d_loss_fn, g_loss_fn):\n",
        "        super(WGAN, self).compile()\n",
        "        self.d_optimizer = d_optimizer\n",
        "        self.g_optimizer = g_optimizer\n",
        "        self.d_loss_fn = d_loss_fn\n",
        "        self.g_loss_fn = g_loss_fn\n",
        "\n",
        "\n",
        "    def gradient_penalty(self, batch_size, real_data, fake_data):\n",
        "        # get the interplated data\n",
        "        alpha = tf.random.normal([batch_size, 1, 1], 0.0, 1.0)\n",
        "        diff = fake_data - real_data\n",
        "        interpolated = real_data + alpha * diff\n",
        "\n",
        "        with tf.GradientTape() as gp_tape:\n",
        "            gp_tape.watch(interpolated)\n",
        "            # 1. Get the discriminator output for this interpolated image.\n",
        "            pred = self.discriminator(interpolated, training=True)\n",
        "\n",
        "        # 2. Calculate the gradients w.r.t to this interpolated image.\n",
        "        grads = gp_tape.gradient(pred, [interpolated])[0]\n",
        "        # 3. Calcuate the norm of the gradients\n",
        "        norm = tf.sqrt(tf.reduce_sum(tf.square(grads), axis=[1, 2]))\n",
        "        gp = tf.reduce_mean((norm - 1.0) ** 2)\n",
        "        return gp\n",
        "\n",
        "    def train_step(self, real_data):\n",
        "        if isinstance(real_data, tuple):\n",
        "            real_data = real_data[0]\n",
        "\n",
        "        # Get the batch size\n",
        "        batch_size = tf.shape(real_data)[0]\n",
        "\n",
        "        #-------------------------#\n",
        "        # Train the DISCRIMINATOR #\n",
        "        #-------------------------#\n",
        "        \n",
        "        for i in range(self.d_steps):\n",
        "            \n",
        "            # Get the latent vector\n",
        "            random_latent_vectors = tf.random.normal(shape=(batch_size, self.latent_dim))\n",
        "            \n",
        "            with tf.GradientTape() as tape:\n",
        "                \n",
        "                # Generate fake sample from the latent vector\n",
        "                fake_data = self.generator(random_latent_vectors, training=True)\n",
        "                \n",
        "                fake_logits = self.discriminator(fake_data, training=True)\n",
        "                real_logits = self.discriminator(real_data, training=True)\n",
        "\n",
        "                # Calculate discriminator loss\n",
        "                d_cost = self.d_loss_fn(real_=real_logits, fake_=fake_logits)\n",
        "                # Calculate the gradient penalty\n",
        "                gp = self.gradient_penalty(batch_size, real_data, fake_data)\n",
        "                \n",
        "                # Add the gradient penalty to the discriminator loss\n",
        "                d_loss = d_cost + gp * self.gp_weight\n",
        "\n",
        "            # Get the gradients w.r.t the discriminator loss\n",
        "            d_gradient = tape.gradient(d_loss, self.discriminator.trainable_variables)\n",
        "            # Update the weights of the discriminator\n",
        "            self.d_optimizer.apply_gradients(\n",
        "                zip(d_gradient, self.discriminator.trainable_variables)\n",
        "            )\n",
        "\n",
        "        #---------------------#\n",
        "        # Train the GENERATOR #\n",
        "        #---------------------#\n",
        "        \n",
        "        # Get the latent vector\n",
        "        random_latent_vectors = tf.random.normal(shape=(batch_size, self.latent_dim))\n",
        "        \n",
        "        with tf.GradientTape() as tape:\n",
        "            # Generate fake images using the generator\n",
        "            generated_data = self.generator(random_latent_vectors, training=True)\n",
        "            # Get the discriminator logits for fake images\n",
        "            gen_img_logits = self.discriminator(generated_data, training=True)\n",
        "            # Calculate the generator loss\n",
        "            g_loss = self.g_loss_fn(gen_img_logits)\n",
        "\n",
        "        # Get the gradients w.r.t the generator loss\n",
        "        gen_gradient = tape.gradient(g_loss, self.generator.trainable_variables)\n",
        "        # Update the weights of the generator using the generator optimizer\n",
        "        self.g_optimizer.apply_gradients(\n",
        "            zip(gen_gradient, self.generator.trainable_variables)\n",
        "        )\n",
        "        return {\"d_loss\": d_loss, \"g_loss\": g_loss}"
      ],
      "execution_count": null,
      "outputs": []
    },
    {
      "cell_type": "code",
      "metadata": {
        "id": "OPC2xjepoR0R"
      },
      "source": [
        "generator_optimizer = keras.optimizers.Adam(learning_rate=0.0005, beta_1=0.5)\n",
        "discriminator_optimizer = keras.optimizers.Adam(learning_rate=0.0005, beta_1=0.5)\n",
        "\n",
        "def discriminator_loss(real_, fake_):\n",
        "    real_loss = tf.reduce_mean(real_)\n",
        "    fake_loss = tf.reduce_mean(fake_)\n",
        "    return fake_loss - real_loss\n",
        "\n",
        "def generator_loss(fake_):\n",
        "    return -tf.reduce_mean(fake_)\n",
        "\n",
        "\n",
        "# Get the wgan model\n",
        "wgan = WGAN(\n",
        "    discriminator=d_model,\n",
        "    generator=g_model,\n",
        "    latent_dim=noise_dim,\n",
        "    discriminator_extra_steps=4,\n",
        "    gp_weight = 10.0\n",
        ")\n",
        "\n",
        "# Compile the wgan model\n",
        "wgan.compile(\n",
        "    d_optimizer=discriminator_optimizer,\n",
        "    g_optimizer=generator_optimizer,\n",
        "    g_loss_fn=generator_loss,\n",
        "    d_loss_fn=discriminator_loss,\n",
        ")"
      ],
      "execution_count": null,
      "outputs": []
    },
    {
      "cell_type": "markdown",
      "metadata": {
        "id": "soWfoUchOY2W"
      },
      "source": [
        "Start the training"
      ]
    },
    {
      "cell_type": "code",
      "metadata": {
        "id": "WtewycetoY7L"
      },
      "source": [
        "history = wgan.fit(dataset, batch_size=BATCH_SIZE, epochs=epochs)"
      ],
      "execution_count": null,
      "outputs": []
    },
    {
      "cell_type": "markdown",
      "metadata": {
        "id": "zo9s3pE3Og56"
      },
      "source": [
        "Visualize the generator and the discriminator loss function"
      ]
    },
    {
      "cell_type": "code",
      "metadata": {
        "id": "DHBpLebDohux"
      },
      "source": [
        "g_loss = history.history['g_loss']\n",
        "d_loss = history.history['d_loss']\n",
        "steps = range(1,len(g_loss)+1)\n",
        "\n",
        "plt.figure(figsize=(15,5))\n",
        "plt.plot(steps, g_loss, label = 'g_loss')\n",
        "plt.plot(steps, d_loss, label = 'd_loss')\n",
        "\n",
        "plt.title(\"Training Loss\")\n",
        "plt.xlabel(\"Iteration\")\n",
        "plt.ylabel(\"Loss\")\n",
        "plt.legend()"
      ],
      "execution_count": null,
      "outputs": []
    }
  ]
}